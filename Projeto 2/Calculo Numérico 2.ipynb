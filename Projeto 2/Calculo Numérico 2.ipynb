{
 "cells": [
  {
   "cell_type": "markdown",
   "metadata": {},
   "source": [
    "# 2° Projeto de Cálculo Numérico"
   ]
  },
  {
   "cell_type": "markdown",
   "metadata": {},
   "source": [
    "### Alunos: Iury Barros, Sávio Aparecido, Arthur Nunes e João Vitor Sostag"
   ]
  },
  {
   "cell_type": "code",
   "execution_count": 1,
   "metadata": {},
   "outputs": [],
   "source": [
    "import numpy as np"
   ]
  },
  {
   "cell_type": "markdown",
   "metadata": {},
   "source": [
    "## Letra A:"
   ]
  },
  {
   "cell_type": "code",
   "execution_count": 2,
   "metadata": {},
   "outputs": [
    {
     "name": "stdout",
     "output_type": "stream",
     "text": [
      "Informe a primeira distância: 0\n",
      "Informe a segunda distância: 10\n",
      "Informe a terceira distância: 20\n",
      "Informe a primeira altura: 0\n",
      "Informe a segunda altura: 6\n",
      "Informe a terceira altura: 4\n"
     ]
    }
   ],
   "source": [
    "x0 = float(input('Informe a primeira distância: '))\n",
    "x1 = float(input('Informe a segunda distância: '))\n",
    "x2 = float(input('Informe a terceira distância: '))\n",
    "y0 = float(input('Informe a primeira altura: '))\n",
    "y1 = float(input('Informe a segunda altura: '))\n",
    "y2 = float(input('Informe a terceira altura: '))"
   ]
  },
  {
   "cell_type": "code",
   "execution_count": 3,
   "metadata": {},
   "outputs": [],
   "source": [
    "a = (y1-y0)/(x1-x0)\n",
    "b = (y2-y1)/(x2-x1)\n",
    "c = (b-a)/(x2-x0)\n",
    "d = a-c*x1-c*x0\n",
    "e = y0-a*x0+c*x0*x1"
   ]
  },
  {
   "cell_type": "code",
   "execution_count": 4,
   "metadata": {},
   "outputs": [
    {
     "name": "stdout",
     "output_type": "stream",
     "text": [
      "P2(X) = -0.04X²+1.0X+0.0\n"
     ]
    }
   ],
   "source": [
    "if (d>0 or d==0) and (e>0 or e==0):\n",
    "    print(f'P2(X) = {c}X²+{d}X+{e}')\n",
    "elif (d>0 or d==0) and (e<0):\n",
    "    print(f'P2(X) = {c}X²+{d}X{e}')\n",
    "elif (d<0) and (e>0 or e==0):\n",
    "    print(f'P2(X) = {c}X²{d}X+{e}')\n",
    "else:\n",
    "    print(f'P2(X) = {c}X²{d}X{e}')"
   ]
  },
  {
   "cell_type": "markdown",
   "metadata": {},
   "source": [
    "## Letra B:"
   ]
  },
  {
   "cell_type": "code",
   "execution_count": 5,
   "metadata": {},
   "outputs": [
    {
     "name": "stdout",
     "output_type": "stream",
     "text": [
      "O ângulo é de 45.0°\n",
      "A velocidade inicial é igual à 15.70m/s\n"
     ]
    }
   ],
   "source": [
    "if (x0!=0) and (x1!=0):\n",
    "    g = -((x1**2)/(x0**2))\n",
    "    h = g*y0+y1\n",
    "    i = g*x0+x1\n",
    "    rad = np.arctan(h/i)\n",
    "    fi = np.degrees(rad)\n",
    "    print(f'O ângulo é de {fi}°')\n",
    "    j = np.tan(rad)\n",
    "    k = ((np.cos(rad))**2)\n",
    "    l = x1*j\n",
    "    m = (4.93*(x1**2))/k\n",
    "    n = -m/(y1-l)\n",
    "    v0 = n**(1/2)\n",
    "    print(f'A velocidade inicial é igual à {v0:.2f}m/s')\n",
    "elif (x1!=0) and (x2!=0):\n",
    "    g = -((x2**2)/(x1**2))\n",
    "    h = (g*y1)+y2\n",
    "    i = (g*x1)+x2\n",
    "    rad = np.arctan(h/i)\n",
    "    fi = np.degrees(rad)\n",
    "    print(f'O ângulo é de {fi}°')\n",
    "    j = np.tan(rad)\n",
    "    k = ((np.cos(rad))**2)\n",
    "    l = x1*j\n",
    "    m = (4.93*(x1**2))/k\n",
    "    n = -m/(y1-l)\n",
    "    v0 = n**(1/2)\n",
    "    print(f'A velocidade inicial é igual à {v0:.2f}m/s')\n",
    "else:\n",
    "    g = -((x2**2)/(x0**2))\n",
    "    h = (g*y0)+y2\n",
    "    i = (g*x0)+x2\n",
    "    rad = np.arctan(h/i)\n",
    "    fi = np.degrees(rad)\n",
    "    print(f'O ângulo é de {fi}°')\n",
    "    j = np.tan(rad)\n",
    "    k = ((np.cos(rad))**2)\n",
    "    l = x0*j\n",
    "    m = (4.93*(x0**2))/k\n",
    "    n = -m/(y0-l)\n",
    "    v0 = n**(1/2)\n",
    "    print(f'A velocidade inicial é igual à {v0:.2f}m/s')"
   ]
  },
  {
   "cell_type": "markdown",
   "metadata": {},
   "source": [
    "## Letra C:"
   ]
  },
  {
   "cell_type": "code",
   "execution_count": 6,
   "metadata": {},
   "outputs": [
    {
     "name": "stdout",
     "output_type": "stream",
     "text": [
      "Informe a distância do projétil em metros: 5\n",
      "A altitude do projétil a 5.0 metros de distância é 4.00m\n"
     ]
    }
   ],
   "source": [
    "metros = float(input('Informe a distância do projétil em metros: '))\n",
    "m1 = (4.93*(metros**2))/k\n",
    "print(f'A altitude do projétil a {metros} metros de distância é {((5*j)-(m1/(v0**2))):.2f}m')"
   ]
  }
 ],
 "metadata": {
  "kernelspec": {
   "display_name": "Python 3",
   "language": "python",
   "name": "python3"
  },
  "language_info": {
   "codemirror_mode": {
    "name": "ipython",
    "version": 3
   },
   "file_extension": ".py",
   "mimetype": "text/x-python",
   "name": "python",
   "nbconvert_exporter": "python",
   "pygments_lexer": "ipython3",
   "version": "3.6.5"
  }
 },
 "nbformat": 4,
 "nbformat_minor": 2
}
