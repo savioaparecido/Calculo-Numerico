{
 "cells": [
  {
   "cell_type": "markdown",
   "metadata": {},
   "source": [
    "# Projeto 3 - Cálculo Numérico"
   ]
  },
  {
   "cell_type": "markdown",
   "metadata": {},
   "source": [
    "## Integrantes: Iury Costa, Sávio Aparecido, Arthur Nunes e João Vitor Sostag"
   ]
  },
  {
   "cell_type": "markdown",
   "metadata": {},
   "source": [
    "### A determinação da área da seção reta de rios e lagos é importantes em projetos de prevenção de enchentes (para o cálculo de vazão da água) e nos projetos de reservatórios (para o cálculo do volume total de água). A menos que dispositivos tipo sonar sejam usados na obtenção do perfil do fundo de rios/lagos, o engenheiro civil deve trabalhar com valores da profundidade, obtidos em pontos discretos da superfície."
   ]
  },
  {
   "cell_type": "code",
   "execution_count": 29,
   "metadata": {},
   "outputs": [],
   "source": [
    "#Importação da biblioteca necessária para a realização dos cálculos.\n",
    "import numpy as np"
   ]
  },
  {
   "cell_type": "code",
   "execution_count": 83,
   "metadata": {},
   "outputs": [
    {
     "name": "stdout",
     "output_type": "stream",
     "text": [
      "A área da seção reta do rio pelo método do trapézio é de 63.2m²\n"
     ]
    }
   ],
   "source": [
    "#Método do trapézio - Generalizado.\n",
    "y = [0, 1.8, 2, 4, 4, 6, 4, 3.6, 3.4, 2.8, 0]\n",
    "h = 2\n",
    "soma = np.cumsum(y)\n",
    "integral = (h/2)*(soma[-1]*2)\n",
    "print(f'A área da seção reta do rio pelo método do trapézio é de {integral}m²')"
   ]
  },
  {
   "cell_type": "code",
   "execution_count": 82,
   "metadata": {},
   "outputs": [
    {
     "name": "stdout",
     "output_type": "stream",
     "text": [
      "A área da seção reta do rio pelo método 1/3 de Simpson é de 66.4m²\n"
     ]
    }
   ],
   "source": [
    "#Método 1/3 de Simpson - Generalizado.\n",
    "y = [0, 1.8, 2, 4, 4, 6, 4, 3.6, 3.4, 2.8, 0]\n",
    "h = 2\n",
    "ind1 = list(range(1, 11, 2))\n",
    "ind2 = list(range(2, 11, 2))\n",
    "for i in ind1:\n",
    "    y[i] = y[i]*4\n",
    "for j in ind2:\n",
    "    y[j] = y[j]*2\n",
    "soma = np.cumsum(y)\n",
    "integral = (h/3)*(soma[-1])\n",
    "print(f'A área da seção reta do rio pelo método 1/3 de Simpson é de {integral}m²')"
   ]
  },
  {
   "cell_type": "code",
   "execution_count": 81,
   "metadata": {},
   "outputs": [
    {
     "name": "stdout",
     "output_type": "stream",
     "text": [
      "A área da seção reta do rio pelo método 3/8 de Simpson é de 64.05m²\n"
     ]
    }
   ],
   "source": [
    "#Método 3/8 de Simpson - Generalizado.\n",
    "y = [1.8, 2, 4, 4, 6, 4, 3.6, 3.4, 2.8, 0]\n",
    "h = 2\n",
    "ind1 = [1, 2, 4, 5, 7, 8]\n",
    "ind2 = [3, 6]\n",
    "for i in ind1:\n",
    "    y[i] = y[i]*3\n",
    "for j in ind2:\n",
    "    y[j] = y[j]*2\n",
    "soma = np.cumsum(y)\n",
    "integral = (3*h/8)*(soma[-1] + soma[0])\n",
    "print(f'A área da seção reta do rio pelo método 3/8 de Simpson é de {integral}m²')"
   ]
  },
  {
   "cell_type": "code",
   "execution_count": null,
   "metadata": {},
   "outputs": [],
   "source": []
  }
 ],
 "metadata": {
  "kernelspec": {
   "display_name": "Python 3",
   "language": "python",
   "name": "python3"
  },
  "language_info": {
   "codemirror_mode": {
    "name": "ipython",
    "version": 3
   },
   "file_extension": ".py",
   "mimetype": "text/x-python",
   "name": "python",
   "nbconvert_exporter": "python",
   "pygments_lexer": "ipython3",
   "version": "3.6.5"
  }
 },
 "nbformat": 4,
 "nbformat_minor": 2
}
